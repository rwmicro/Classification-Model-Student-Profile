{
 "cells": [
  {
   "attachments": {},
   "cell_type": "markdown",
   "metadata": {},
   "source": [
    "# Classification model student profile\n",
    "This program is use to predict the student profile based on his grades, interests and plenty of parameters"
   ]
  },
  {
   "attachments": {},
   "cell_type": "markdown",
   "metadata": {},
   "source": [
    "## Importation of librairies"
   ]
  },
  {
   "cell_type": "code",
   "execution_count": null,
   "metadata": {},
   "outputs": [],
   "source": [
    "import pandas as pd\n",
    "import keras\n",
    "from keras.utils import FeatureSpace\n",
    "from sklearn.preprocessing import LabelEncoder\n",
    "import tensorflow as tf\n",
    "import numpy as np"
   ]
  },
  {
   "attachments": {},
   "cell_type": "markdown",
   "metadata": {},
   "source": [
    "## Load dataframe and get classes names"
   ]
  },
  {
   "cell_type": "code",
   "execution_count": null,
   "metadata": {},
   "outputs": [],
   "source": [
    "dataframe = pd.read_csv('data/dataset.csv')\n",
    "DATASET_SIZE = dataframe.shape[0]\n",
    "CLASS_NAMES = set(dataframe.specification.unique())"
   ]
  },
  {
   "attachments": {},
   "cell_type": "markdown",
   "metadata": {},
   "source": [
    "## Normalization of datas"
   ]
  },
  {
   "cell_type": "code",
   "execution_count": null,
   "metadata": {},
   "outputs": [],
   "source": [
    "def normalization(dataframe):\n",
    "    dataframe = dataframe.drop('student_id', axis=1)\n",
    "    dataframe = dataframe.fillna(\"\")\n",
    "    label_encoder = LabelEncoder()\n",
    "    dataframe.specification = label_encoder.fit_transform(dataframe.specification)\n",
    "    dataframe.specification = dataframe.specification.astype('category')\n",
    "    return dataframe\n",
    "\n",
    "dataframe = normalization(dataframe)"
   ]
  },
  {
   "attachments": {},
   "cell_type": "markdown",
   "metadata": {},
   "source": [
    "## Split between train (80%) and test (20%) and conversion to tensorflow Dataset"
   ]
  },
  {
   "cell_type": "code",
   "execution_count": null,
   "metadata": {},
   "outputs": [],
   "source": [
    "def dataframe_to_dataset(dataframe):\n",
    "    catpop = dataframe.pop(\"specification\")\n",
    "    category = pd.get_dummies(catpop, prefix='Specification')\n",
    "    ds = tf.data.Dataset.from_tensor_slices((dict(dataframe), category))\n",
    "    ds = ds.shuffle(buffer_size=len(dataframe))\n",
    "    return ds\n",
    "\n",
    "test_dataframe = dataframe.sample(frac=0.2, random_state=1337)\n",
    "train_dataframe = dataframe.drop(test_dataframe.index)\n",
    "\n",
    "test_ds = dataframe_to_dataset(test_dataframe)\n",
    "train_ds = dataframe_to_dataset(train_dataframe)\n",
    "\n",
    "test_ds = test_ds.batch(32)\n",
    "train_ds = train_ds.batch(32)\n"
   ]
  },
  {
   "attachments": {},
   "cell_type": "markdown",
   "metadata": {},
   "source": [
    "## Creation of the normalization parameters"
   ]
  },
  {
   "cell_type": "code",
   "execution_count": null,
   "metadata": {},
   "outputs": [],
   "source": [
    "fs = FeatureSpace(\n",
    "    features={\n",
    "        \"iq\":\"float_normalized\",\n",
    "        \"interest_outside_school\": \"string_categorical\",\n",
    "        \"interest_outside_school2\": \"string_categorical\",\n",
    "        \"interest_outside_school3\": \"string_categorical\",\n",
    "        \"interest_outside_school4\": \"string_categorical\",\n",
    "        \"favorite_subjects_it\": \"string_categorical\",\n",
    "        \"favorite_subjects_it2\": \"string_categorical\",\n",
    "        \"favorite_subjects_it3\": \"string_categorical\",\n",
    "        \"favorite_subjects_it4\": \"string_categorical\",\n",
    "        \"name\": \"string_categorical\",\n",
    "        \"hobbies\": \"string_categorical\",\n",
    "        \"hobbies2\": \"string_categorical\",\n",
    "        \"hobbies3\": \"string_categorical\",\n",
    "        \"hobbies4\": \"string_categorical\",\n",
    "        \"hobbies5\": \"string_categorical\",\n",
    "        \"hobbies6\": \"string_categorical\",\n",
    "        \"hobbies7\": \"string_categorical\",\n",
    "        \"hobbies8\": \"string_categorical\",\n",
    "        \"hobbies9\": \"string_categorical\",\n",
    "        \"junior_network_administrator\": \"float_normalized\",\n",
    "        \"junior_web_programmer\": \"float_normalized\",\n",
    "        \"junior_programmer\": \"float_normalized\",\n",
    "    },\n",
    "    output_mode=\"concat\",\n",
    ")\n",
    "\n",
    "def extract_feature(x, _):\n",
    "    return x\n",
    "\n",
    "train_no_labels = train_ds.map(extract_feature)\n",
    "\n",
    "fs.adapt(train_no_labels)"
   ]
  },
  {
   "attachments": {},
   "cell_type": "markdown",
   "metadata": {},
   "source": [
    "## Feature the datas to the FeatureSpace specifications"
   ]
  },
  {
   "cell_type": "code",
   "execution_count": null,
   "metadata": {},
   "outputs": [],
   "source": [
    "preprocessed_train_ds = train_ds.map(\n",
    "    lambda x, y: (fs(x), y), num_parallel_calls=tf.data.AUTOTUNE\n",
    ")\n",
    "preprocessed_train_ds = preprocessed_train_ds.prefetch(tf.data.AUTOTUNE)\n",
    "\n",
    "preprocessed_test_ds = test_ds.map(\n",
    "    lambda x, y: (fs(x), y), num_parallel_calls=tf.data.AUTOTUNE\n",
    ")\n",
    "preprocessed_test_ds = preprocessed_test_ds.prefetch(tf.data.AUTOTUNE)"
   ]
  },
  {
   "attachments": {},
   "cell_type": "markdown",
   "metadata": {},
   "source": [
    "## Creation of the model"
   ]
  },
  {
   "cell_type": "code",
   "execution_count": null,
   "metadata": {},
   "outputs": [],
   "source": [
    "dataset_encoded = fs.get_encoded_features()\n",
    "raw = fs.get_inputs()\n",
    "\n",
    "x = keras.layers.Dense(32, activation=\"relu\")(dataset_encoded)\n",
    "x = keras.layers.Dense(32, activation=\"relu\")(x)\n",
    "predictions = keras.layers.Dense(len(CLASS_NAMES), activation=\"softmax\")(x)\n",
    "\n",
    "training_model = keras.Model(inputs=dataset_encoded, outputs=predictions)\n",
    "inference_model = keras.Model(inputs=raw, outputs=predictions)\n",
    "\n",
    "\n",
    "training_model.compile(loss=\"categorical_crossentropy\",\n",
    "                   optimizer=\"adam\", metrics=['accuracy'])\n",
    "\n",
    "inference_model.compile(loss=\"categorical_crossentropy\",\n",
    "                   optimizer=\"adam\", metrics=['accuracy'])"
   ]
  },
  {
   "attachments": {},
   "cell_type": "markdown",
   "metadata": {},
   "source": [
    "## Train the model"
   ]
  },
  {
   "cell_type": "code",
   "execution_count": null,
   "metadata": {},
   "outputs": [],
   "source": [
    "training_model.fit(\n",
    "    preprocessed_train_ds, epochs=30, verbose=2\n",
    ")"
   ]
  },
  {
   "attachments": {},
   "cell_type": "markdown",
   "metadata": {},
   "source": [
    "## Evalutation of the model"
   ]
  },
  {
   "cell_type": "code",
   "execution_count": null,
   "metadata": {},
   "outputs": [],
   "source": [
    "evaluation_results = training_model.evaluate(preprocessed_test_ds, verbose=0)\n",
    "loss, accuracy = evaluation_results\n",
    "print('Accuracy: %.2f%%' % (accuracy * 100))\n",
    "print('Loss: {}'.format(loss))"
   ]
  },
  {
   "attachments": {},
   "cell_type": "markdown",
   "metadata": {},
   "source": [
    "## Save the model weights"
   ]
  },
  {
   "cell_type": "code",
   "execution_count": null,
   "metadata": {},
   "outputs": [],
   "source": [
    "inference_model.save('./model/settings')"
   ]
  }
 ],
 "metadata": {
  "kernelspec": {
   "display_name": "Python 3 (ipykernel)",
   "language": "python",
   "name": "python3"
  },
  "language_info": {
   "codemirror_mode": {
    "name": "ipython",
    "version": 3
   },
   "file_extension": ".py",
   "mimetype": "text/x-python",
   "name": "python",
   "nbconvert_exporter": "python",
   "pygments_lexer": "ipython3",
   "version": "3.11.3"
  }
 },
 "nbformat": 4,
 "nbformat_minor": 2
}
