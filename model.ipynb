{
 "cells": [
  {
   "cell_type": "markdown",
   "metadata": {},
   "source": [
    "# Classification model student profile\n",
    "This program is use to predict the student profile based on his grades, interests and plenty of parameters"
   ]
  },
  {
   "cell_type": "markdown",
   "metadata": {},
   "source": [
    "## Importation of librairies"
   ]
  },
  {
   "cell_type": "code",
   "execution_count": 1,
   "metadata": {},
   "outputs": [
    {
     "name": "stderr",
     "output_type": "stream",
     "text": [
      "2023-06-06 05:10:35.932176: I tensorflow/tsl/cuda/cudart_stub.cc:28] Could not find cuda drivers on your machine, GPU will not be used.\n",
      "2023-06-06 05:10:36.475218: I tensorflow/tsl/cuda/cudart_stub.cc:28] Could not find cuda drivers on your machine, GPU will not be used.\n",
      "2023-06-06 05:10:36.481032: I tensorflow/core/platform/cpu_feature_guard.cc:182] This TensorFlow binary is optimized to use available CPU instructions in performance-critical operations.\n",
      "To enable the following instructions: AVX2 FMA, in other operations, rebuild TensorFlow with the appropriate compiler flags.\n",
      "2023-06-06 05:10:38.573702: W tensorflow/compiler/tf2tensorrt/utils/py_utils.cc:38] TF-TRT Warning: Could not find TensorRT\n"
     ]
    }
   ],
   "source": [
    "import pandas as pd\n",
    "import keras\n",
    "from keras.utils import FeatureSpace\n",
    "from sklearn.preprocessing import LabelEncoder\n",
    "import tensorflow as tf\n",
    "import numpy as np"
   ]
  },
  {
   "cell_type": "markdown",
   "metadata": {},
   "source": [
    "## Load dataframe and get classes names"
   ]
  },
  {
   "cell_type": "code",
   "execution_count": 2,
   "metadata": {},
   "outputs": [],
   "source": [
    "dataframe = pd.read_csv('data/dataset.csv')\n",
    "DATASET_SIZE = dataframe.shape[0]\n",
    "CLASS_NAMES = set(dataframe.specification.unique())"
   ]
  },
  {
   "cell_type": "markdown",
   "metadata": {},
   "source": [
    "## Normalization of datas"
   ]
  },
  {
   "cell_type": "code",
   "execution_count": 3,
   "metadata": {},
   "outputs": [],
   "source": [
    "def normalization(dataframe):\n",
    "    dataframe = dataframe.drop('student_id', axis=1)\n",
    "    dataframe = dataframe.fillna(\"\")\n",
    "    label_encoder = LabelEncoder()\n",
    "    dataframe.specification = label_encoder.fit_transform(dataframe.specification)\n",
    "    dataframe.specification = dataframe.specification.astype('category')\n",
    "    return dataframe\n",
    "\n",
    "dataframe = normalization(dataframe)"
   ]
  },
  {
   "cell_type": "markdown",
   "metadata": {},
   "source": [
    "## Split between train (80%) and test (20%) and conversion to tensorflow Dataset"
   ]
  },
  {
   "cell_type": "code",
   "execution_count": 4,
   "metadata": {},
   "outputs": [
    {
     "name": "stderr",
     "output_type": "stream",
     "text": [
      "2023-06-06 05:10:43.247549: E tensorflow/compiler/xla/stream_executor/cuda/cuda_driver.cc:266] failed call to cuInit: CUDA_ERROR_NO_DEVICE: no CUDA-capable device is detected\n"
     ]
    }
   ],
   "source": [
    "def dataframe_to_dataset(dataframe):\n",
    "    catpop = dataframe.pop(\"specification\")\n",
    "    category = pd.get_dummies(catpop, prefix='Specification')\n",
    "    ds = tf.data.Dataset.from_tensor_slices((dict(dataframe), category))\n",
    "    ds = ds.shuffle(buffer_size=len(dataframe))\n",
    "    return ds\n",
    "\n",
    "test_dataframe = dataframe.sample(frac=0.2, random_state=1337)\n",
    "train_dataframe = dataframe.drop(test_dataframe.index)\n",
    "\n",
    "test_ds = dataframe_to_dataset(test_dataframe)\n",
    "train_ds = dataframe_to_dataset(train_dataframe)\n",
    "\n",
    "test_ds = test_ds.batch(32)\n",
    "train_ds = train_ds.batch(32)\n"
   ]
  },
  {
   "cell_type": "markdown",
   "metadata": {},
   "source": [
    "## Creation of the normalization parameters"
   ]
  },
  {
   "cell_type": "code",
   "execution_count": 5,
   "metadata": {},
   "outputs": [
    {
     "name": "stderr",
     "output_type": "stream",
     "text": [
      "2023-06-06 05:10:43.906084: I tensorflow/core/common_runtime/executor.cc:1197] [/device:CPU:0] (DEBUG INFO) Executor start aborting (this does not indicate an error and you can ignore this message): INVALID_ARGUMENT: You must feed a value for placeholder tensor 'Placeholder/_19' with dtype double and shape [80000]\n",
      "\t [[{{node Placeholder/_19}}]]\n",
      "2023-06-06 05:10:43.908537: I tensorflow/core/common_runtime/executor.cc:1197] [/device:CPU:0] (DEBUG INFO) Executor start aborting (this does not indicate an error and you can ignore this message): INVALID_ARGUMENT: You must feed a value for placeholder tensor 'Placeholder/_11' with dtype string and shape [80000]\n",
      "\t [[{{node Placeholder/_11}}]]\n",
      "2023-06-06 05:10:45.245665: I tensorflow/core/common_runtime/executor.cc:1197] [/device:CPU:0] (DEBUG INFO) Executor start aborting (this does not indicate an error and you can ignore this message): INVALID_ARGUMENT: You must feed a value for placeholder tensor 'Placeholder/_20' with dtype double and shape [80000]\n",
      "\t [[{{node Placeholder/_20}}]]\n",
      "2023-06-06 05:10:45.247486: I tensorflow/core/common_runtime/executor.cc:1197] [/device:CPU:0] (DEBUG INFO) Executor start aborting (this does not indicate an error and you can ignore this message): INVALID_ARGUMENT: You must feed a value for placeholder tensor 'Placeholder/_20' with dtype double and shape [80000]\n",
      "\t [[{{node Placeholder/_20}}]]\n",
      "2023-06-06 05:10:50.568515: I tensorflow/core/common_runtime/executor.cc:1197] [/device:CPU:0] (DEBUG INFO) Executor start aborting (this does not indicate an error and you can ignore this message): INVALID_ARGUMENT: You must feed a value for placeholder tensor 'Placeholder/_3' with dtype string and shape [80000]\n",
      "\t [[{{node Placeholder/_3}}]]\n",
      "2023-06-06 05:10:50.570107: I tensorflow/core/common_runtime/executor.cc:1197] [/device:CPU:0] (DEBUG INFO) Executor start aborting (this does not indicate an error and you can ignore this message): INVALID_ARGUMENT: You must feed a value for placeholder tensor 'Placeholder/_7' with dtype string and shape [80000]\n",
      "\t [[{{node Placeholder/_7}}]]\n",
      "2023-06-06 05:10:52.082465: I tensorflow/core/common_runtime/executor.cc:1197] [/device:CPU:0] (DEBUG INFO) Executor start aborting (this does not indicate an error and you can ignore this message): INVALID_ARGUMENT: You must feed a value for placeholder tensor 'Placeholder/_13' with dtype string and shape [80000]\n",
      "\t [[{{node Placeholder/_13}}]]\n",
      "2023-06-06 05:10:52.083415: I tensorflow/core/common_runtime/executor.cc:1197] [/device:CPU:0] (DEBUG INFO) Executor start aborting (this does not indicate an error and you can ignore this message): INVALID_ARGUMENT: You must feed a value for placeholder tensor 'Placeholder/_1' with dtype string and shape [80000]\n",
      "\t [[{{node Placeholder/_1}}]]\n",
      "2023-06-06 05:10:57.413643: I tensorflow/core/common_runtime/executor.cc:1197] [/device:CPU:0] (DEBUG INFO) Executor start aborting (this does not indicate an error and you can ignore this message): INVALID_ARGUMENT: You must feed a value for placeholder tensor 'Placeholder/_6' with dtype string and shape [80000]\n",
      "\t [[{{node Placeholder/_6}}]]\n",
      "2023-06-06 05:10:57.414734: I tensorflow/core/common_runtime/executor.cc:1197] [/device:CPU:0] (DEBUG INFO) Executor start aborting (this does not indicate an error and you can ignore this message): INVALID_ARGUMENT: You must feed a value for placeholder tensor 'Placeholder/_21' with dtype string and shape [80000]\n",
      "\t [[{{node Placeholder/_21}}]]\n",
      "2023-06-06 05:10:58.747095: I tensorflow/core/common_runtime/executor.cc:1197] [/device:CPU:0] (DEBUG INFO) Executor start aborting (this does not indicate an error and you can ignore this message): INVALID_ARGUMENT: You must feed a value for placeholder tensor 'Placeholder/_3' with dtype string and shape [80000]\n",
      "\t [[{{node Placeholder/_3}}]]\n",
      "2023-06-06 05:10:58.748007: I tensorflow/core/common_runtime/executor.cc:1197] [/device:CPU:0] (DEBUG INFO) Executor start aborting (this does not indicate an error and you can ignore this message): INVALID_ARGUMENT: You must feed a value for placeholder tensor 'Placeholder/_6' with dtype string and shape [80000]\n",
      "\t [[{{node Placeholder/_6}}]]\n",
      "2023-06-06 05:11:03.179426: I tensorflow/core/common_runtime/executor.cc:1197] [/device:CPU:0] (DEBUG INFO) Executor start aborting (this does not indicate an error and you can ignore this message): INVALID_ARGUMENT: You must feed a value for placeholder tensor 'Placeholder/_16' with dtype string and shape [80000]\n",
      "\t [[{{node Placeholder/_16}}]]\n",
      "2023-06-06 05:11:03.180559: I tensorflow/core/common_runtime/executor.cc:1197] [/device:CPU:0] (DEBUG INFO) Executor start aborting (this does not indicate an error and you can ignore this message): INVALID_ARGUMENT: You must feed a value for placeholder tensor 'Placeholder/_9' with dtype string and shape [80000]\n",
      "\t [[{{node Placeholder/_9}}]]\n",
      "2023-06-06 05:11:04.544990: I tensorflow/core/common_runtime/executor.cc:1197] [/device:CPU:0] (DEBUG INFO) Executor start aborting (this does not indicate an error and you can ignore this message): INVALID_ARGUMENT: You must feed a value for placeholder tensor 'Placeholder/_22' with dtype uint8 and shape [80000,2]\n",
      "\t [[{{node Placeholder/_22}}]]\n",
      "2023-06-06 05:11:04.545917: I tensorflow/core/common_runtime/executor.cc:1197] [/device:CPU:0] (DEBUG INFO) Executor start aborting (this does not indicate an error and you can ignore this message): INVALID_ARGUMENT: You must feed a value for placeholder tensor 'Placeholder/_6' with dtype string and shape [80000]\n",
      "\t [[{{node Placeholder/_6}}]]\n",
      "2023-06-06 05:11:09.310314: I tensorflow/core/common_runtime/executor.cc:1197] [/device:CPU:0] (DEBUG INFO) Executor start aborting (this does not indicate an error and you can ignore this message): INVALID_ARGUMENT: You must feed a value for placeholder tensor 'Placeholder/_5' with dtype string and shape [80000]\n",
      "\t [[{{node Placeholder/_5}}]]\n",
      "2023-06-06 05:11:09.311762: I tensorflow/core/common_runtime/executor.cc:1197] [/device:CPU:0] (DEBUG INFO) Executor start aborting (this does not indicate an error and you can ignore this message): INVALID_ARGUMENT: You must feed a value for placeholder tensor 'Placeholder/_7' with dtype string and shape [80000]\n",
      "\t [[{{node Placeholder/_7}}]]\n",
      "2023-06-06 05:11:10.979286: I tensorflow/core/common_runtime/executor.cc:1197] [/device:CPU:0] (DEBUG INFO) Executor start aborting (this does not indicate an error and you can ignore this message): INVALID_ARGUMENT: You must feed a value for placeholder tensor 'Placeholder/_22' with dtype uint8 and shape [80000,2]\n",
      "\t [[{{node Placeholder/_22}}]]\n",
      "2023-06-06 05:11:10.980415: I tensorflow/core/common_runtime/executor.cc:1197] [/device:CPU:0] (DEBUG INFO) Executor start aborting (this does not indicate an error and you can ignore this message): INVALID_ARGUMENT: You must feed a value for placeholder tensor 'Placeholder/_9' with dtype string and shape [80000]\n",
      "\t [[{{node Placeholder/_9}}]]\n",
      "2023-06-06 05:11:15.984249: I tensorflow/core/common_runtime/executor.cc:1197] [/device:CPU:0] (DEBUG INFO) Executor start aborting (this does not indicate an error and you can ignore this message): INVALID_ARGUMENT: You must feed a value for placeholder tensor 'Placeholder/_8' with dtype string and shape [80000]\n",
      "\t [[{{node Placeholder/_8}}]]\n",
      "2023-06-06 05:11:15.985506: I tensorflow/core/common_runtime/executor.cc:1197] [/device:CPU:0] (DEBUG INFO) Executor start aborting (this does not indicate an error and you can ignore this message): INVALID_ARGUMENT: You must feed a value for placeholder tensor 'Placeholder/_7' with dtype string and shape [80000]\n",
      "\t [[{{node Placeholder/_7}}]]\n",
      "2023-06-06 05:11:17.310513: I tensorflow/core/common_runtime/executor.cc:1197] [/device:CPU:0] (DEBUG INFO) Executor start aborting (this does not indicate an error and you can ignore this message): INVALID_ARGUMENT: You must feed a value for placeholder tensor 'Placeholder/_22' with dtype uint8 and shape [80000,2]\n",
      "\t [[{{node Placeholder/_22}}]]\n",
      "2023-06-06 05:11:17.311705: I tensorflow/core/common_runtime/executor.cc:1197] [/device:CPU:0] (DEBUG INFO) Executor start aborting (this does not indicate an error and you can ignore this message): INVALID_ARGUMENT: You must feed a value for placeholder tensor 'Placeholder/_11' with dtype string and shape [80000]\n",
      "\t [[{{node Placeholder/_11}}]]\n"
     ]
    },
    {
     "name": "stderr",
     "output_type": "stream",
     "text": [
      "2023-06-06 05:11:21.641688: I tensorflow/core/common_runtime/executor.cc:1197] [/device:CPU:0] (DEBUG INFO) Executor start aborting (this does not indicate an error and you can ignore this message): INVALID_ARGUMENT: You must feed a value for placeholder tensor 'Placeholder/_0' with dtype string and shape [80000]\n",
      "\t [[{{node Placeholder/_0}}]]\n",
      "2023-06-06 05:11:21.642717: I tensorflow/core/common_runtime/executor.cc:1197] [/device:CPU:0] (DEBUG INFO) Executor start aborting (this does not indicate an error and you can ignore this message): INVALID_ARGUMENT: You must feed a value for placeholder tensor 'Placeholder/_13' with dtype string and shape [80000]\n",
      "\t [[{{node Placeholder/_13}}]]\n",
      "2023-06-06 05:11:23.026814: I tensorflow/core/common_runtime/executor.cc:1197] [/device:CPU:0] (DEBUG INFO) Executor start aborting (this does not indicate an error and you can ignore this message): INVALID_ARGUMENT: You must feed a value for placeholder tensor 'Placeholder/_5' with dtype string and shape [80000]\n",
      "\t [[{{node Placeholder/_5}}]]\n",
      "2023-06-06 05:11:23.030353: I tensorflow/core/common_runtime/executor.cc:1197] [/device:CPU:0] (DEBUG INFO) Executor start aborting (this does not indicate an error and you can ignore this message): INVALID_ARGUMENT: You must feed a value for placeholder tensor 'Placeholder/_18' with dtype double and shape [80000]\n",
      "\t [[{{node Placeholder/_18}}]]\n",
      "2023-06-06 05:11:27.874420: I tensorflow/core/common_runtime/executor.cc:1197] [/device:CPU:0] (DEBUG INFO) Executor start aborting (this does not indicate an error and you can ignore this message): INVALID_ARGUMENT: You must feed a value for placeholder tensor 'Placeholder/_13' with dtype string and shape [80000]\n",
      "\t [[{{node Placeholder/_13}}]]\n",
      "2023-06-06 05:11:27.876366: I tensorflow/core/common_runtime/executor.cc:1197] [/device:CPU:0] (DEBUG INFO) Executor start aborting (this does not indicate an error and you can ignore this message): INVALID_ARGUMENT: You must feed a value for placeholder tensor 'Placeholder/_4' with dtype string and shape [80000]\n",
      "\t [[{{node Placeholder/_4}}]]\n",
      "2023-06-06 05:11:29.674224: I tensorflow/core/common_runtime/executor.cc:1197] [/device:CPU:0] (DEBUG INFO) Executor start aborting (this does not indicate an error and you can ignore this message): INVALID_ARGUMENT: You must feed a value for placeholder tensor 'Placeholder/_7' with dtype string and shape [80000]\n",
      "\t [[{{node Placeholder/_7}}]]\n",
      "2023-06-06 05:11:29.675256: I tensorflow/core/common_runtime/executor.cc:1197] [/device:CPU:0] (DEBUG INFO) Executor start aborting (this does not indicate an error and you can ignore this message): INVALID_ARGUMENT: You must feed a value for placeholder tensor 'Placeholder/_9' with dtype string and shape [80000]\n",
      "\t [[{{node Placeholder/_9}}]]\n",
      "2023-06-06 05:11:34.924005: I tensorflow/core/common_runtime/executor.cc:1197] [/device:CPU:0] (DEBUG INFO) Executor start aborting (this does not indicate an error and you can ignore this message): INVALID_ARGUMENT: You must feed a value for placeholder tensor 'Placeholder/_20' with dtype double and shape [80000]\n",
      "\t [[{{node Placeholder/_20}}]]\n",
      "2023-06-06 05:11:34.925060: I tensorflow/core/common_runtime/executor.cc:1197] [/device:CPU:0] (DEBUG INFO) Executor start aborting (this does not indicate an error and you can ignore this message): INVALID_ARGUMENT: You must feed a value for placeholder tensor 'Placeholder/_2' with dtype string and shape [80000]\n",
      "\t [[{{node Placeholder/_2}}]]\n",
      "2023-06-06 05:11:36.595417: I tensorflow/core/common_runtime/executor.cc:1197] [/device:CPU:0] (DEBUG INFO) Executor start aborting (this does not indicate an error and you can ignore this message): INVALID_ARGUMENT: You must feed a value for placeholder tensor 'Placeholder/_14' with dtype string and shape [80000]\n",
      "\t [[{{node Placeholder/_14}}]]\n",
      "2023-06-06 05:11:36.597335: I tensorflow/core/common_runtime/executor.cc:1197] [/device:CPU:0] (DEBUG INFO) Executor start aborting (this does not indicate an error and you can ignore this message): INVALID_ARGUMENT: You must feed a value for placeholder tensor 'Placeholder/_2' with dtype string and shape [80000]\n",
      "\t [[{{node Placeholder/_2}}]]\n",
      "2023-06-06 05:11:40.911260: I tensorflow/core/common_runtime/executor.cc:1197] [/device:CPU:0] (DEBUG INFO) Executor start aborting (this does not indicate an error and you can ignore this message): INVALID_ARGUMENT: You must feed a value for placeholder tensor 'Placeholder/_3' with dtype string and shape [80000]\n",
      "\t [[{{node Placeholder/_3}}]]\n",
      "2023-06-06 05:11:40.912511: I tensorflow/core/common_runtime/executor.cc:1197] [/device:CPU:0] (DEBUG INFO) Executor start aborting (this does not indicate an error and you can ignore this message): INVALID_ARGUMENT: You must feed a value for placeholder tensor 'Placeholder/_11' with dtype string and shape [80000]\n",
      "\t [[{{node Placeholder/_11}}]]\n",
      "2023-06-06 05:11:42.545300: I tensorflow/core/common_runtime/executor.cc:1197] [/device:CPU:0] (DEBUG INFO) Executor start aborting (this does not indicate an error and you can ignore this message): INVALID_ARGUMENT: You must feed a value for placeholder tensor 'Placeholder/_4' with dtype string and shape [80000]\n",
      "\t [[{{node Placeholder/_4}}]]\n",
      "2023-06-06 05:11:42.546450: I tensorflow/core/common_runtime/executor.cc:1197] [/device:CPU:0] (DEBUG INFO) Executor start aborting (this does not indicate an error and you can ignore this message): INVALID_ARGUMENT: You must feed a value for placeholder tensor 'Placeholder/_7' with dtype string and shape [80000]\n",
      "\t [[{{node Placeholder/_7}}]]\n",
      "2023-06-06 05:11:47.470292: I tensorflow/core/common_runtime/executor.cc:1197] [/device:CPU:0] (DEBUG INFO) Executor start aborting (this does not indicate an error and you can ignore this message): INVALID_ARGUMENT: You must feed a value for placeholder tensor 'Placeholder/_20' with dtype double and shape [80000]\n",
      "\t [[{{node Placeholder/_20}}]]\n",
      "2023-06-06 05:11:47.471342: I tensorflow/core/common_runtime/executor.cc:1197] [/device:CPU:0] (DEBUG INFO) Executor start aborting (this does not indicate an error and you can ignore this message): INVALID_ARGUMENT: You must feed a value for placeholder tensor 'Placeholder/_9' with dtype string and shape [80000]\n",
      "\t [[{{node Placeholder/_9}}]]\n",
      "2023-06-06 05:11:48.763188: I tensorflow/core/common_runtime/executor.cc:1197] [/device:CPU:0] (DEBUG INFO) Executor start aborting (this does not indicate an error and you can ignore this message): INVALID_ARGUMENT: You must feed a value for placeholder tensor 'Placeholder/_0' with dtype string and shape [80000]\n",
      "\t [[{{node Placeholder/_0}}]]\n",
      "2023-06-06 05:11:48.764086: I tensorflow/core/common_runtime/executor.cc:1197] [/device:CPU:0] (DEBUG INFO) Executor start aborting (this does not indicate an error and you can ignore this message): INVALID_ARGUMENT: You must feed a value for placeholder tensor 'Placeholder/_4' with dtype string and shape [80000]\n",
      "\t [[{{node Placeholder/_4}}]]\n",
      "2023-06-06 05:11:53.277592: I tensorflow/core/common_runtime/executor.cc:1197] [/device:CPU:0] (DEBUG INFO) Executor start aborting (this does not indicate an error and you can ignore this message): INVALID_ARGUMENT: You must feed a value for placeholder tensor 'Placeholder/_4' with dtype string and shape [80000]\n",
      "\t [[{{node Placeholder/_4}}]]\n",
      "2023-06-06 05:11:53.278509: I tensorflow/core/common_runtime/executor.cc:1197] [/device:CPU:0] (DEBUG INFO) Executor start aborting (this does not indicate an error and you can ignore this message): INVALID_ARGUMENT: You must feed a value for placeholder tensor 'Placeholder/_22' with dtype uint8 and shape [80000,2]\n",
      "\t [[{{node Placeholder/_22}}]]\n",
      "2023-06-06 05:11:54.571989: I tensorflow/core/common_runtime/executor.cc:1197] [/device:CPU:0] (DEBUG INFO) Executor start aborting (this does not indicate an error and you can ignore this message): INVALID_ARGUMENT: You must feed a value for placeholder tensor 'Placeholder/_20' with dtype double and shape [80000]\n",
      "\t [[{{node Placeholder/_20}}]]\n",
      "2023-06-06 05:11:54.574283: I tensorflow/core/common_runtime/executor.cc:1197] [/device:CPU:0] (DEBUG INFO) Executor start aborting (this does not indicate an error and you can ignore this message): INVALID_ARGUMENT: You must feed a value for placeholder tensor 'Placeholder/_4' with dtype string and shape [80000]\n",
      "\t [[{{node Placeholder/_4}}]]\n"
     ]
    },
    {
     "name": "stderr",
     "output_type": "stream",
     "text": [
      "2023-06-06 05:11:59.160084: I tensorflow/core/common_runtime/executor.cc:1197] [/device:CPU:0] (DEBUG INFO) Executor start aborting (this does not indicate an error and you can ignore this message): INVALID_ARGUMENT: You must feed a value for placeholder tensor 'Placeholder/_7' with dtype string and shape [80000]\n",
      "\t [[{{node Placeholder/_7}}]]\n",
      "2023-06-06 05:11:59.161063: I tensorflow/core/common_runtime/executor.cc:1197] [/device:CPU:0] (DEBUG INFO) Executor start aborting (this does not indicate an error and you can ignore this message): INVALID_ARGUMENT: You must feed a value for placeholder tensor 'Placeholder/_2' with dtype string and shape [80000]\n",
      "\t [[{{node Placeholder/_2}}]]\n",
      "2023-06-06 05:12:00.709576: I tensorflow/core/common_runtime/executor.cc:1197] [/device:CPU:0] (DEBUG INFO) Executor start aborting (this does not indicate an error and you can ignore this message): INVALID_ARGUMENT: You must feed a value for placeholder tensor 'Placeholder/_3' with dtype string and shape [80000]\n",
      "\t [[{{node Placeholder/_3}}]]\n",
      "2023-06-06 05:12:00.711607: I tensorflow/core/common_runtime/executor.cc:1197] [/device:CPU:0] (DEBUG INFO) Executor start aborting (this does not indicate an error and you can ignore this message): INVALID_ARGUMENT: You must feed a value for placeholder tensor 'Placeholder/_17' with dtype int64 and shape [80000]\n",
      "\t [[{{node Placeholder/_17}}]]\n",
      "2023-06-06 05:12:05.135253: I tensorflow/core/common_runtime/executor.cc:1197] [/device:CPU:0] (DEBUG INFO) Executor start aborting (this does not indicate an error and you can ignore this message): INVALID_ARGUMENT: You must feed a value for placeholder tensor 'Placeholder/_14' with dtype string and shape [80000]\n",
      "\t [[{{node Placeholder/_14}}]]\n",
      "2023-06-06 05:12:05.137172: I tensorflow/core/common_runtime/executor.cc:1197] [/device:CPU:0] (DEBUG INFO) Executor start aborting (this does not indicate an error and you can ignore this message): INVALID_ARGUMENT: You must feed a value for placeholder tensor 'Placeholder/_7' with dtype string and shape [80000]\n",
      "\t [[{{node Placeholder/_7}}]]\n",
      "2023-06-06 05:12:06.761266: I tensorflow/core/common_runtime/executor.cc:1197] [/device:CPU:0] (DEBUG INFO) Executor start aborting (this does not indicate an error and you can ignore this message): INVALID_ARGUMENT: You must feed a value for placeholder tensor 'Placeholder/_4' with dtype string and shape [80000]\n",
      "\t [[{{node Placeholder/_4}}]]\n",
      "2023-06-06 05:12:06.763077: I tensorflow/core/common_runtime/executor.cc:1197] [/device:CPU:0] (DEBUG INFO) Executor start aborting (this does not indicate an error and you can ignore this message): INVALID_ARGUMENT: You must feed a value for placeholder tensor 'Placeholder/_5' with dtype string and shape [80000]\n",
      "\t [[{{node Placeholder/_5}}]]\n",
      "2023-06-06 05:12:11.070848: I tensorflow/core/common_runtime/executor.cc:1197] [/device:CPU:0] (DEBUG INFO) Executor start aborting (this does not indicate an error and you can ignore this message): INVALID_ARGUMENT: You must feed a value for placeholder tensor 'Placeholder/_3' with dtype string and shape [80000]\n",
      "\t [[{{node Placeholder/_3}}]]\n",
      "2023-06-06 05:12:11.071929: I tensorflow/core/common_runtime/executor.cc:1197] [/device:CPU:0] (DEBUG INFO) Executor start aborting (this does not indicate an error and you can ignore this message): INVALID_ARGUMENT: You must feed a value for placeholder tensor 'Placeholder/_8' with dtype string and shape [80000]\n",
      "\t [[{{node Placeholder/_8}}]]\n",
      "2023-06-06 05:12:12.726409: I tensorflow/core/common_runtime/executor.cc:1197] [/device:CPU:0] (DEBUG INFO) Executor start aborting (this does not indicate an error and you can ignore this message): INVALID_ARGUMENT: You must feed a value for placeholder tensor 'Placeholder/_5' with dtype string and shape [80000]\n",
      "\t [[{{node Placeholder/_5}}]]\n",
      "2023-06-06 05:12:12.727626: I tensorflow/core/common_runtime/executor.cc:1197] [/device:CPU:0] (DEBUG INFO) Executor start aborting (this does not indicate an error and you can ignore this message): INVALID_ARGUMENT: You must feed a value for placeholder tensor 'Placeholder/_5' with dtype string and shape [80000]\n",
      "\t [[{{node Placeholder/_5}}]]\n",
      "2023-06-06 05:12:17.712591: I tensorflow/core/common_runtime/executor.cc:1197] [/device:CPU:0] (DEBUG INFO) Executor start aborting (this does not indicate an error and you can ignore this message): INVALID_ARGUMENT: You must feed a value for placeholder tensor 'Placeholder/_3' with dtype string and shape [80000]\n",
      "\t [[{{node Placeholder/_3}}]]\n",
      "2023-06-06 05:12:17.714163: I tensorflow/core/common_runtime/executor.cc:1197] [/device:CPU:0] (DEBUG INFO) Executor start aborting (this does not indicate an error and you can ignore this message): INVALID_ARGUMENT: You must feed a value for placeholder tensor 'Placeholder/_7' with dtype string and shape [80000]\n",
      "\t [[{{node Placeholder/_7}}]]\n",
      "2023-06-06 05:12:19.091178: I tensorflow/core/common_runtime/executor.cc:1197] [/device:CPU:0] (DEBUG INFO) Executor start aborting (this does not indicate an error and you can ignore this message): INVALID_ARGUMENT: You must feed a value for placeholder tensor 'Placeholder/_8' with dtype string and shape [80000]\n",
      "\t [[{{node Placeholder/_8}}]]\n",
      "2023-06-06 05:12:19.092994: I tensorflow/core/common_runtime/executor.cc:1197] [/device:CPU:0] (DEBUG INFO) Executor start aborting (this does not indicate an error and you can ignore this message): INVALID_ARGUMENT: You must feed a value for placeholder tensor 'Placeholder/_8' with dtype string and shape [80000]\n",
      "\t [[{{node Placeholder/_8}}]]\n",
      "2023-06-06 05:12:23.304343: I tensorflow/core/common_runtime/executor.cc:1197] [/device:CPU:0] (DEBUG INFO) Executor start aborting (this does not indicate an error and you can ignore this message): INVALID_ARGUMENT: You must feed a value for placeholder tensor 'Placeholder/_7' with dtype string and shape [80000]\n",
      "\t [[{{node Placeholder/_7}}]]\n",
      "2023-06-06 05:12:23.305342: I tensorflow/core/common_runtime/executor.cc:1197] [/device:CPU:0] (DEBUG INFO) Executor start aborting (this does not indicate an error and you can ignore this message): INVALID_ARGUMENT: You must feed a value for placeholder tensor 'Placeholder/_22' with dtype uint8 and shape [80000,2]\n",
      "\t [[{{node Placeholder/_22}}]]\n",
      "2023-06-06 05:12:24.739803: I tensorflow/core/common_runtime/executor.cc:1197] [/device:CPU:0] (DEBUG INFO) Executor start aborting (this does not indicate an error and you can ignore this message): INVALID_ARGUMENT: You must feed a value for placeholder tensor 'Placeholder/_6' with dtype string and shape [80000]\n",
      "\t [[{{node Placeholder/_6}}]]\n",
      "2023-06-06 05:12:24.740958: I tensorflow/core/common_runtime/executor.cc:1197] [/device:CPU:0] (DEBUG INFO) Executor start aborting (this does not indicate an error and you can ignore this message): INVALID_ARGUMENT: You must feed a value for placeholder tensor 'Placeholder/_22' with dtype uint8 and shape [80000,2]\n",
      "\t [[{{node Placeholder/_22}}]]\n",
      "2023-06-06 05:12:28.833321: I tensorflow/core/common_runtime/executor.cc:1197] [/device:CPU:0] (DEBUG INFO) Executor start aborting (this does not indicate an error and you can ignore this message): INVALID_ARGUMENT: You must feed a value for placeholder tensor 'Placeholder/_9' with dtype string and shape [80000]\n",
      "\t [[{{node Placeholder/_9}}]]\n",
      "2023-06-06 05:12:28.834348: I tensorflow/core/common_runtime/executor.cc:1197] [/device:CPU:0] (DEBUG INFO) Executor start aborting (this does not indicate an error and you can ignore this message): INVALID_ARGUMENT: You must feed a value for placeholder tensor 'Placeholder/_9' with dtype string and shape [80000]\n",
      "\t [[{{node Placeholder/_9}}]]\n",
      "2023-06-06 05:12:30.345253: I tensorflow/core/common_runtime/executor.cc:1197] [/device:CPU:0] (DEBUG INFO) Executor start aborting (this does not indicate an error and you can ignore this message): INVALID_ARGUMENT: You must feed a value for placeholder tensor 'Placeholder/_6' with dtype string and shape [80000]\n",
      "\t [[{{node Placeholder/_6}}]]\n",
      "2023-06-06 05:12:30.346634: I tensorflow/core/common_runtime/executor.cc:1197] [/device:CPU:0] (DEBUG INFO) Executor start aborting (this does not indicate an error and you can ignore this message): INVALID_ARGUMENT: You must feed a value for placeholder tensor 'Placeholder/_9' with dtype string and shape [80000]\n",
      "\t [[{{node Placeholder/_9}}]]\n"
     ]
    },
    {
     "name": "stderr",
     "output_type": "stream",
     "text": [
      "2023-06-06 05:12:35.450808: I tensorflow/core/common_runtime/executor.cc:1197] [/device:CPU:0] (DEBUG INFO) Executor start aborting (this does not indicate an error and you can ignore this message): INVALID_ARGUMENT: You must feed a value for placeholder tensor 'Placeholder/_18' with dtype double and shape [80000]\n",
      "\t [[{{node Placeholder/_18}}]]\n",
      "2023-06-06 05:12:35.451754: I tensorflow/core/common_runtime/executor.cc:1197] [/device:CPU:0] (DEBUG INFO) Executor start aborting (this does not indicate an error and you can ignore this message): INVALID_ARGUMENT: You must feed a value for placeholder tensor 'Placeholder/_8' with dtype string and shape [80000]\n",
      "\t [[{{node Placeholder/_8}}]]\n",
      "2023-06-06 05:12:37.113345: I tensorflow/core/common_runtime/executor.cc:1197] [/device:CPU:0] (DEBUG INFO) Executor start aborting (this does not indicate an error and you can ignore this message): INVALID_ARGUMENT: You must feed a value for placeholder tensor 'Placeholder/_7' with dtype string and shape [80000]\n",
      "\t [[{{node Placeholder/_7}}]]\n",
      "2023-06-06 05:12:37.114264: I tensorflow/core/common_runtime/executor.cc:1197] [/device:CPU:0] (DEBUG INFO) Executor start aborting (this does not indicate an error and you can ignore this message): INVALID_ARGUMENT: You must feed a value for placeholder tensor 'Placeholder/_5' with dtype string and shape [80000]\n",
      "\t [[{{node Placeholder/_5}}]]\n",
      "2023-06-06 05:12:41.895391: I tensorflow/core/common_runtime/executor.cc:1197] [/device:CPU:0] (DEBUG INFO) Executor start aborting (this does not indicate an error and you can ignore this message): INVALID_ARGUMENT: You must feed a value for placeholder tensor 'Placeholder/_9' with dtype string and shape [80000]\n",
      "\t [[{{node Placeholder/_9}}]]\n",
      "2023-06-06 05:12:41.896366: I tensorflow/core/common_runtime/executor.cc:1197] [/device:CPU:0] (DEBUG INFO) Executor start aborting (this does not indicate an error and you can ignore this message): INVALID_ARGUMENT: You must feed a value for placeholder tensor 'Placeholder/_6' with dtype string and shape [80000]\n",
      "\t [[{{node Placeholder/_6}}]]\n",
      "2023-06-06 05:12:43.449724: I tensorflow/core/common_runtime/executor.cc:1197] [/device:CPU:0] (DEBUG INFO) Executor start aborting (this does not indicate an error and you can ignore this message): INVALID_ARGUMENT: You must feed a value for placeholder tensor 'Placeholder/_9' with dtype string and shape [80000]\n",
      "\t [[{{node Placeholder/_9}}]]\n",
      "2023-06-06 05:12:43.450809: I tensorflow/core/common_runtime/executor.cc:1197] [/device:CPU:0] (DEBUG INFO) Executor start aborting (this does not indicate an error and you can ignore this message): INVALID_ARGUMENT: You must feed a value for placeholder tensor 'Placeholder/_9' with dtype string and shape [80000]\n",
      "\t [[{{node Placeholder/_9}}]]\n",
      "2023-06-06 05:12:49.125180: I tensorflow/core/common_runtime/executor.cc:1197] [/device:CPU:0] (DEBUG INFO) Executor start aborting (this does not indicate an error and you can ignore this message): INVALID_ARGUMENT: You must feed a value for placeholder tensor 'Placeholder/_5' with dtype string and shape [80000]\n",
      "\t [[{{node Placeholder/_5}}]]\n",
      "2023-06-06 05:12:49.126383: I tensorflow/core/common_runtime/executor.cc:1197] [/device:CPU:0] (DEBUG INFO) Executor start aborting (this does not indicate an error and you can ignore this message): INVALID_ARGUMENT: You must feed a value for placeholder tensor 'Placeholder/_2' with dtype string and shape [80000]\n",
      "\t [[{{node Placeholder/_2}}]]\n",
      "2023-06-06 05:12:50.859295: I tensorflow/core/common_runtime/executor.cc:1197] [/device:CPU:0] (DEBUG INFO) Executor start aborting (this does not indicate an error and you can ignore this message): INVALID_ARGUMENT: You must feed a value for placeholder tensor 'Placeholder/_4' with dtype string and shape [80000]\n",
      "\t [[{{node Placeholder/_4}}]]\n",
      "2023-06-06 05:12:50.860331: I tensorflow/core/common_runtime/executor.cc:1197] [/device:CPU:0] (DEBUG INFO) Executor start aborting (this does not indicate an error and you can ignore this message): INVALID_ARGUMENT: You must feed a value for placeholder tensor 'Placeholder/_15' with dtype string and shape [80000]\n",
      "\t [[{{node Placeholder/_15}}]]\n",
      "2023-06-06 05:12:56.126850: I tensorflow/core/common_runtime/executor.cc:1197] [/device:CPU:0] (DEBUG INFO) Executor start aborting (this does not indicate an error and you can ignore this message): INVALID_ARGUMENT: You must feed a value for placeholder tensor 'Placeholder/_4' with dtype string and shape [80000]\n",
      "\t [[{{node Placeholder/_4}}]]\n",
      "2023-06-06 05:12:56.127873: I tensorflow/core/common_runtime/executor.cc:1197] [/device:CPU:0] (DEBUG INFO) Executor start aborting (this does not indicate an error and you can ignore this message): INVALID_ARGUMENT: You must feed a value for placeholder tensor 'Placeholder/_1' with dtype string and shape [80000]\n",
      "\t [[{{node Placeholder/_1}}]]\n",
      "2023-06-06 05:12:57.763044: I tensorflow/core/common_runtime/executor.cc:1197] [/device:CPU:0] (DEBUG INFO) Executor start aborting (this does not indicate an error and you can ignore this message): INVALID_ARGUMENT: You must feed a value for placeholder tensor 'Placeholder/_22' with dtype uint8 and shape [80000,2]\n",
      "\t [[{{node Placeholder/_22}}]]\n",
      "2023-06-06 05:12:57.764098: I tensorflow/core/common_runtime/executor.cc:1197] [/device:CPU:0] (DEBUG INFO) Executor start aborting (this does not indicate an error and you can ignore this message): INVALID_ARGUMENT: You must feed a value for placeholder tensor 'Placeholder/_9' with dtype string and shape [80000]\n",
      "\t [[{{node Placeholder/_9}}]]\n"
     ]
    }
   ],
   "source": [
    "fs = FeatureSpace(\n",
    "    features={\n",
    "        \"iq\":\"float_normalized\",\n",
    "        \"interest_outside_school\": \"string_categorical\",\n",
    "        \"interest_outside_school2\": \"string_categorical\",\n",
    "        \"interest_outside_school3\": \"string_categorical\",\n",
    "        \"interest_outside_school4\": \"string_categorical\",\n",
    "        \"favorite_subjects_it\": \"string_categorical\",\n",
    "        \"favorite_subjects_it2\": \"string_categorical\",\n",
    "        \"favorite_subjects_it3\": \"string_categorical\",\n",
    "        \"favorite_subjects_it4\": \"string_categorical\",\n",
    "        \"name\": \"string_categorical\",\n",
    "        \"hobbies\": \"string_categorical\",\n",
    "        \"hobbies2\": \"string_categorical\",\n",
    "        \"hobbies3\": \"string_categorical\",\n",
    "        \"hobbies4\": \"string_categorical\",\n",
    "        \"hobbies5\": \"string_categorical\",\n",
    "        \"hobbies6\": \"string_categorical\",\n",
    "        \"hobbies7\": \"string_categorical\",\n",
    "        \"hobbies8\": \"string_categorical\",\n",
    "        \"hobbies9\": \"string_categorical\",\n",
    "        \"junior_network_administrator\": \"float_normalized\",\n",
    "        \"junior_web_programmer\": \"float_normalized\",\n",
    "        \"junior_programmer\": \"float_normalized\",\n",
    "    },\n",
    "    output_mode=\"concat\",\n",
    ")\n",
    "\n",
    "def extract_feature(x, _):\n",
    "    return x\n",
    "\n",
    "train_no_labels = train_ds.map(extract_feature)\n",
    "\n",
    "fs.adapt(train_no_labels)"
   ]
  },
  {
   "cell_type": "markdown",
   "metadata": {},
   "source": [
    "## Feature the datas to the FeatureSpace specifications"
   ]
  },
  {
   "cell_type": "code",
   "execution_count": 6,
   "metadata": {},
   "outputs": [],
   "source": [
    "preprocessed_train_ds = train_ds.map(\n",
    "    lambda x, y: (fs(x), y), num_parallel_calls=tf.data.AUTOTUNE\n",
    ")\n",
    "preprocessed_train_ds = preprocessed_train_ds.prefetch(tf.data.AUTOTUNE)\n",
    "\n",
    "preprocessed_test_ds = test_ds.map(\n",
    "    lambda x, y: (fs(x), y), num_parallel_calls=tf.data.AUTOTUNE\n",
    ")\n",
    "preprocessed_test_ds = preprocessed_test_ds.prefetch(tf.data.AUTOTUNE)"
   ]
  },
  {
   "cell_type": "markdown",
   "metadata": {},
   "source": [
    "## Creation of the model"
   ]
  },
  {
   "cell_type": "code",
   "execution_count": 7,
   "metadata": {},
   "outputs": [],
   "source": [
    "dataset_encoded = fs.get_encoded_features()\n",
    "raw = fs.get_inputs()\n",
    "\n",
    "x = keras.layers.Dense(32, activation=\"relu\")(dataset_encoded)\n",
    "x = keras.layers.Dense(32, activation=\"relu\")(x)\n",
    "predictions = keras.layers.Dense(len(CLASS_NAMES), activation=\"softmax\")(x)\n",
    "\n",
    "training_model = keras.Model(inputs=dataset_encoded, outputs=predictions)\n",
    "inference_model = keras.Model(inputs=raw, outputs=predictions)\n",
    "\n",
    "\n",
    "training_model.compile(loss=\"categorical_crossentropy\",\n",
    "                   optimizer=\"adam\", metrics=['accuracy'])\n",
    "\n",
    "inference_model.compile(loss=\"categorical_crossentropy\",\n",
    "                   optimizer=\"adam\", metrics=['accuracy'])"
   ]
  },
  {
   "cell_type": "markdown",
   "metadata": {},
   "source": [
    "## Train the model"
   ]
  },
  {
   "cell_type": "code",
   "execution_count": 8,
   "metadata": {},
   "outputs": [
    {
     "name": "stderr",
     "output_type": "stream",
     "text": [
      "2023-06-06 05:13:06.021658: I tensorflow/core/common_runtime/executor.cc:1197] [/device:CPU:0] (DEBUG INFO) Executor start aborting (this does not indicate an error and you can ignore this message): INVALID_ARGUMENT: You must feed a value for placeholder tensor 'Placeholder/_22' with dtype uint8 and shape [80000,2]\n",
      "\t [[{{node Placeholder/_22}}]]\n",
      "2023-06-06 05:13:06.023827: I tensorflow/core/common_runtime/executor.cc:1197] [/device:CPU:0] (DEBUG INFO) Executor start aborting (this does not indicate an error and you can ignore this message): INVALID_ARGUMENT: You must feed a value for placeholder tensor 'Placeholder/_13' with dtype string and shape [80000]\n",
      "\t [[{{node Placeholder/_13}}]]\n"
     ]
    },
    {
     "name": "stdout",
     "output_type": "stream",
     "text": [
      "2500/2500 - 7s - loss: 0.2287 - accuracy: 0.9104 - 7s/epoch - 3ms/step\n"
     ]
    },
    {
     "data": {
      "text/plain": [
       "<keras.callbacks.History at 0x7f3e4078f580>"
      ]
     },
     "execution_count": 8,
     "metadata": {},
     "output_type": "execute_result"
    }
   ],
   "source": [
    "training_model.fit(\n",
    "    preprocessed_train_ds, epochs=1, verbose=2\n",
    ")"
   ]
  },
  {
   "cell_type": "markdown",
   "metadata": {},
   "source": [
    "## Evalutation of the model"
   ]
  },
  {
   "cell_type": "code",
   "execution_count": 9,
   "metadata": {},
   "outputs": [
    {
     "name": "stderr",
     "output_type": "stream",
     "text": [
      "2023-06-06 05:13:13.674049: I tensorflow/core/common_runtime/executor.cc:1197] [/device:CPU:0] (DEBUG INFO) Executor start aborting (this does not indicate an error and you can ignore this message): INVALID_ARGUMENT: You must feed a value for placeholder tensor 'Placeholder/_72' with dtype float and shape [1,1]\n",
      "\t [[{{node Placeholder/_72}}]]\n",
      "2023-06-06 05:13:13.676537: I tensorflow/core/common_runtime/executor.cc:1197] [/device:CPU:0] (DEBUG INFO) Executor start aborting (this does not indicate an error and you can ignore this message): INVALID_ARGUMENT: You must feed a value for placeholder tensor 'Placeholder/_2' with dtype string and shape [20000]\n",
      "\t [[{{node Placeholder/_2}}]]\n"
     ]
    },
    {
     "name": "stdout",
     "output_type": "stream",
     "text": [
      "Accuracy: 91.22%\n",
      "Loss: 0.2171178162097931\n"
     ]
    }
   ],
   "source": [
    "evaluation_results = training_model.evaluate(preprocessed_test_ds, verbose=0)\n",
    "loss, accuracy = evaluation_results\n",
    "print('Accuracy: %.2f%%' % (accuracy * 100))\n",
    "print('Loss: {}'.format(loss))"
   ]
  },
  {
   "cell_type": "markdown",
   "metadata": {},
   "source": [
    "## Save the model weights"
   ]
  },
  {
   "cell_type": "code",
   "execution_count": 12,
   "metadata": {},
   "outputs": [
    {
     "name": "stderr",
     "output_type": "stream",
     "text": [
      "2023-06-06 05:16:44.248301: I tensorflow/core/common_runtime/executor.cc:1197] [/device:CPU:0] (DEBUG INFO) Executor start aborting (this does not indicate an error and you can ignore this message): INVALID_ARGUMENT: You must feed a value for placeholder tensor 'inputs' with dtype int64 and shape [?,1]\n",
      "\t [[{{node inputs}}]]\n",
      "2023-06-06 05:16:44.254369: I tensorflow/core/common_runtime/executor.cc:1197] [/device:CPU:0] (DEBUG INFO) Executor start aborting (this does not indicate an error and you can ignore this message): INVALID_ARGUMENT: You must feed a value for placeholder tensor 'inputs' with dtype int64 and shape [?,1]\n",
      "\t [[{{node inputs}}]]\n",
      "2023-06-06 05:16:44.260462: I tensorflow/core/common_runtime/executor.cc:1197] [/device:CPU:0] (DEBUG INFO) Executor start aborting (this does not indicate an error and you can ignore this message): INVALID_ARGUMENT: You must feed a value for placeholder tensor 'inputs' with dtype int64 and shape [?,1]\n",
      "\t [[{{node inputs}}]]\n",
      "2023-06-06 05:16:44.266224: I tensorflow/core/common_runtime/executor.cc:1197] [/device:CPU:0] (DEBUG INFO) Executor start aborting (this does not indicate an error and you can ignore this message): INVALID_ARGUMENT: You must feed a value for placeholder tensor 'inputs' with dtype int64 and shape [?,1]\n",
      "\t [[{{node inputs}}]]\n",
      "2023-06-06 05:16:44.271550: I tensorflow/core/common_runtime/executor.cc:1197] [/device:CPU:0] (DEBUG INFO) Executor start aborting (this does not indicate an error and you can ignore this message): INVALID_ARGUMENT: You must feed a value for placeholder tensor 'inputs' with dtype int64 and shape [?,1]\n",
      "\t [[{{node inputs}}]]\n",
      "2023-06-06 05:16:44.277531: I tensorflow/core/common_runtime/executor.cc:1197] [/device:CPU:0] (DEBUG INFO) Executor start aborting (this does not indicate an error and you can ignore this message): INVALID_ARGUMENT: You must feed a value for placeholder tensor 'inputs' with dtype int64 and shape [?,1]\n",
      "\t [[{{node inputs}}]]\n",
      "2023-06-06 05:16:44.282870: I tensorflow/core/common_runtime/executor.cc:1197] [/device:CPU:0] (DEBUG INFO) Executor start aborting (this does not indicate an error and you can ignore this message): INVALID_ARGUMENT: You must feed a value for placeholder tensor 'inputs' with dtype int64 and shape [?,1]\n",
      "\t [[{{node inputs}}]]\n",
      "2023-06-06 05:16:44.288273: I tensorflow/core/common_runtime/executor.cc:1197] [/device:CPU:0] (DEBUG INFO) Executor start aborting (this does not indicate an error and you can ignore this message): INVALID_ARGUMENT: You must feed a value for placeholder tensor 'inputs' with dtype int64 and shape [?,1]\n",
      "\t [[{{node inputs}}]]\n",
      "2023-06-06 05:16:44.293890: I tensorflow/core/common_runtime/executor.cc:1197] [/device:CPU:0] (DEBUG INFO) Executor start aborting (this does not indicate an error and you can ignore this message): INVALID_ARGUMENT: You must feed a value for placeholder tensor 'inputs' with dtype int64 and shape [?,1]\n",
      "\t [[{{node inputs}}]]\n",
      "2023-06-06 05:16:44.299591: I tensorflow/core/common_runtime/executor.cc:1197] [/device:CPU:0] (DEBUG INFO) Executor start aborting (this does not indicate an error and you can ignore this message): INVALID_ARGUMENT: You must feed a value for placeholder tensor 'inputs' with dtype int64 and shape [?,1]\n",
      "\t [[{{node inputs}}]]\n",
      "2023-06-06 05:16:44.307213: I tensorflow/core/common_runtime/executor.cc:1197] [/device:CPU:0] (DEBUG INFO) Executor start aborting (this does not indicate an error and you can ignore this message): INVALID_ARGUMENT: You must feed a value for placeholder tensor 'inputs' with dtype int64 and shape [?,1]\n",
      "\t [[{{node inputs}}]]\n",
      "2023-06-06 05:16:44.312993: I tensorflow/core/common_runtime/executor.cc:1197] [/device:CPU:0] (DEBUG INFO) Executor start aborting (this does not indicate an error and you can ignore this message): INVALID_ARGUMENT: You must feed a value for placeholder tensor 'inputs' with dtype int64 and shape [?,1]\n",
      "\t [[{{node inputs}}]]\n",
      "2023-06-06 05:16:44.323788: I tensorflow/core/common_runtime/executor.cc:1197] [/device:CPU:0] (DEBUG INFO) Executor start aborting (this does not indicate an error and you can ignore this message): INVALID_ARGUMENT: You must feed a value for placeholder tensor 'inputs' with dtype int64 and shape [?,1]\n",
      "\t [[{{node inputs}}]]\n",
      "2023-06-06 05:16:44.332286: I tensorflow/core/common_runtime/executor.cc:1197] [/device:CPU:0] (DEBUG INFO) Executor start aborting (this does not indicate an error and you can ignore this message): INVALID_ARGUMENT: You must feed a value for placeholder tensor 'inputs' with dtype int64 and shape [?,1]\n",
      "\t [[{{node inputs}}]]\n",
      "2023-06-06 05:16:44.341789: I tensorflow/core/common_runtime/executor.cc:1197] [/device:CPU:0] (DEBUG INFO) Executor start aborting (this does not indicate an error and you can ignore this message): INVALID_ARGUMENT: You must feed a value for placeholder tensor 'inputs' with dtype int64 and shape [?,1]\n",
      "\t [[{{node inputs}}]]\n",
      "2023-06-06 05:16:44.348634: I tensorflow/core/common_runtime/executor.cc:1197] [/device:CPU:0] (DEBUG INFO) Executor start aborting (this does not indicate an error and you can ignore this message): INVALID_ARGUMENT: You must feed a value for placeholder tensor 'inputs' with dtype int64 and shape [?,1]\n",
      "\t [[{{node inputs}}]]\n",
      "2023-06-06 05:16:44.357498: I tensorflow/core/common_runtime/executor.cc:1197] [/device:CPU:0] (DEBUG INFO) Executor start aborting (this does not indicate an error and you can ignore this message): INVALID_ARGUMENT: You must feed a value for placeholder tensor 'inputs' with dtype int64 and shape [?,1]\n",
      "\t [[{{node inputs}}]]\n",
      "2023-06-06 05:16:44.364556: I tensorflow/core/common_runtime/executor.cc:1197] [/device:CPU:0] (DEBUG INFO) Executor start aborting (this does not indicate an error and you can ignore this message): INVALID_ARGUMENT: You must feed a value for placeholder tensor 'inputs' with dtype int64 and shape [?,1]\n",
      "\t [[{{node inputs}}]]\n",
      "2023-06-06 05:16:45.935176: I tensorflow/core/common_runtime/executor.cc:1197] [/device:CPU:0] (DEBUG INFO) Executor start aborting (this does not indicate an error and you can ignore this message): INVALID_ARGUMENT: You must feed a value for placeholder tensor 'inputs' with dtype int64 and shape [?,1]\n",
      "\t [[{{node inputs}}]]\n",
      "2023-06-06 05:16:45.960247: I tensorflow/core/common_runtime/executor.cc:1197] [/device:CPU:0] (DEBUG INFO) Executor start aborting (this does not indicate an error and you can ignore this message): INVALID_ARGUMENT: You must feed a value for placeholder tensor 'inputs' with dtype int64 and shape [?,1]\n",
      "\t [[{{node inputs}}]]\n",
      "2023-06-06 05:16:45.984808: I tensorflow/core/common_runtime/executor.cc:1197] [/device:CPU:0] (DEBUG INFO) Executor start aborting (this does not indicate an error and you can ignore this message): INVALID_ARGUMENT: You must feed a value for placeholder tensor 'inputs' with dtype int64 and shape [?,1]\n",
      "\t [[{{node inputs}}]]\n",
      "2023-06-06 05:16:46.012663: I tensorflow/core/common_runtime/executor.cc:1197] [/device:CPU:0] (DEBUG INFO) Executor start aborting (this does not indicate an error and you can ignore this message): INVALID_ARGUMENT: You must feed a value for placeholder tensor 'inputs' with dtype int64 and shape [?,1]\n",
      "\t [[{{node inputs}}]]\n",
      "2023-06-06 05:16:46.041907: I tensorflow/core/common_runtime/executor.cc:1197] [/device:CPU:0] (DEBUG INFO) Executor start aborting (this does not indicate an error and you can ignore this message): INVALID_ARGUMENT: You must feed a value for placeholder tensor 'inputs' with dtype int64 and shape [?,1]\n",
      "\t [[{{node inputs}}]]\n",
      "2023-06-06 05:16:46.087159: I tensorflow/core/common_runtime/executor.cc:1197] [/device:CPU:0] (DEBUG INFO) Executor start aborting (this does not indicate an error and you can ignore this message): INVALID_ARGUMENT: You must feed a value for placeholder tensor 'inputs' with dtype int64 and shape [?,1]\n",
      "\t [[{{node inputs}}]]\n",
      "2023-06-06 05:16:46.146553: I tensorflow/core/common_runtime/executor.cc:1197] [/device:CPU:0] (DEBUG INFO) Executor start aborting (this does not indicate an error and you can ignore this message): INVALID_ARGUMENT: You must feed a value for placeholder tensor 'inputs' with dtype int64 and shape [?,1]\n",
      "\t [[{{node inputs}}]]\n",
      "2023-06-06 05:16:46.206282: I tensorflow/core/common_runtime/executor.cc:1197] [/device:CPU:0] (DEBUG INFO) Executor start aborting (this does not indicate an error and you can ignore this message): INVALID_ARGUMENT: You must feed a value for placeholder tensor 'inputs' with dtype int64 and shape [?,1]\n",
      "\t [[{{node inputs}}]]\n",
      "2023-06-06 05:16:46.267860: I tensorflow/core/common_runtime/executor.cc:1197] [/device:CPU:0] (DEBUG INFO) Executor start aborting (this does not indicate an error and you can ignore this message): INVALID_ARGUMENT: You must feed a value for placeholder tensor 'inputs' with dtype int64 and shape [?,1]\n",
      "\t [[{{node inputs}}]]\n",
      "2023-06-06 05:16:46.330531: I tensorflow/core/common_runtime/executor.cc:1197] [/device:CPU:0] (DEBUG INFO) Executor start aborting (this does not indicate an error and you can ignore this message): INVALID_ARGUMENT: You must feed a value for placeholder tensor 'inputs' with dtype int64 and shape [?,1]\n",
      "\t [[{{node inputs}}]]\n"
     ]
    },
    {
     "name": "stderr",
     "output_type": "stream",
     "text": [
      "2023-06-06 05:16:46.391656: I tensorflow/core/common_runtime/executor.cc:1197] [/device:CPU:0] (DEBUG INFO) Executor start aborting (this does not indicate an error and you can ignore this message): INVALID_ARGUMENT: You must feed a value for placeholder tensor 'inputs' with dtype int64 and shape [?,1]\n",
      "\t [[{{node inputs}}]]\n",
      "2023-06-06 05:16:46.422571: I tensorflow/core/common_runtime/executor.cc:1197] [/device:CPU:0] (DEBUG INFO) Executor start aborting (this does not indicate an error and you can ignore this message): INVALID_ARGUMENT: You must feed a value for placeholder tensor 'inputs' with dtype int64 and shape [?,1]\n",
      "\t [[{{node inputs}}]]\n",
      "2023-06-06 05:16:46.448954: I tensorflow/core/common_runtime/executor.cc:1197] [/device:CPU:0] (DEBUG INFO) Executor start aborting (this does not indicate an error and you can ignore this message): INVALID_ARGUMENT: You must feed a value for placeholder tensor 'inputs' with dtype int64 and shape [?,1]\n",
      "\t [[{{node inputs}}]]\n",
      "2023-06-06 05:16:46.475586: I tensorflow/core/common_runtime/executor.cc:1197] [/device:CPU:0] (DEBUG INFO) Executor start aborting (this does not indicate an error and you can ignore this message): INVALID_ARGUMENT: You must feed a value for placeholder tensor 'inputs' with dtype int64 and shape [?,1]\n",
      "\t [[{{node inputs}}]]\n",
      "2023-06-06 05:16:46.500893: I tensorflow/core/common_runtime/executor.cc:1197] [/device:CPU:0] (DEBUG INFO) Executor start aborting (this does not indicate an error and you can ignore this message): INVALID_ARGUMENT: You must feed a value for placeholder tensor 'inputs' with dtype int64 and shape [?,1]\n",
      "\t [[{{node inputs}}]]\n",
      "2023-06-06 05:16:46.525610: I tensorflow/core/common_runtime/executor.cc:1197] [/device:CPU:0] (DEBUG INFO) Executor start aborting (this does not indicate an error and you can ignore this message): INVALID_ARGUMENT: You must feed a value for placeholder tensor 'inputs' with dtype int64 and shape [?,1]\n",
      "\t [[{{node inputs}}]]\n",
      "2023-06-06 05:16:46.549937: I tensorflow/core/common_runtime/executor.cc:1197] [/device:CPU:0] (DEBUG INFO) Executor start aborting (this does not indicate an error and you can ignore this message): INVALID_ARGUMENT: You must feed a value for placeholder tensor 'inputs' with dtype int64 and shape [?,1]\n",
      "\t [[{{node inputs}}]]\n",
      "2023-06-06 05:16:46.584093: I tensorflow/core/common_runtime/executor.cc:1197] [/device:CPU:0] (DEBUG INFO) Executor start aborting (this does not indicate an error and you can ignore this message): INVALID_ARGUMENT: You must feed a value for placeholder tensor 'inputs' with dtype int64 and shape [?,1]\n",
      "\t [[{{node inputs}}]]\n",
      "WARNING:absl:Found untraced functions such as _update_step_xla while saving (showing 1 of 1). These functions will not be directly callable after loading.\n"
     ]
    },
    {
     "name": "stdout",
     "output_type": "stream",
     "text": [
      "INFO:tensorflow:Assets written to: ./model/settings/assets\n"
     ]
    },
    {
     "name": "stderr",
     "output_type": "stream",
     "text": [
      "INFO:tensorflow:Assets written to: ./model/settings/assets\n"
     ]
    }
   ],
   "source": [
    "inference_model.save('./model/settings')"
   ]
  },
  {
   "cell_type": "code",
   "execution_count": null,
   "metadata": {},
   "outputs": [],
   "source": []
  }
 ],
 "metadata": {
  "kernelspec": {
   "display_name": "Python 3 (ipykernel)",
   "language": "python",
   "name": "python3"
  },
  "language_info": {
   "codemirror_mode": {
    "name": "ipython",
    "version": 3
   },
   "file_extension": ".py",
   "mimetype": "text/x-python",
   "name": "python",
   "nbconvert_exporter": "python",
   "pygments_lexer": "ipython3",
   "version": "3.10.10"
  }
 },
 "nbformat": 4,
 "nbformat_minor": 2
}
